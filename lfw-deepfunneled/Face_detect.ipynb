{
 "cells": [
  {
   "cell_type": "code",
   "execution_count": 2,
   "metadata": {},
   "outputs": [],
   "source": [
    "import cv2\n",
    "from matplotlib import pyplot as plt"
   ]
  },
  {
   "cell_type": "code",
   "execution_count": 3,
   "metadata": {},
   "outputs": [],
   "source": [
    "class FaceDetector():\n",
    "\n",
    "    def __init__(self,faceCascadePath):\n",
    "        self.faceCascade=cv2.CascadeClassifier(faceCascadePath)\n",
    "    \n",
    "    def detect(self, image, scaleFactor=1.1,minNeighbors=5,minSize=(30,30)):\n",
    "        \n",
    "        #function return rectangle coordinates of faces for given image\n",
    "        rects=self.faceCascade.detectMultiScale(image,\n",
    "                                                scaleFactor=scaleFactor,\n",
    "                                                minNeighbors=minNeighbors,\n",
    "                                                minSize=minSize)\n",
    "        return rects"
   ]
  },
  {
   "cell_type": "code",
   "execution_count": 4,
   "metadata": {},
   "outputs": [],
   "source": [
    "frontal_cascade_path = 'haarcascade_frontalface_default.xml'\n",
    "fd=FaceDetector(frontal_cascade_path)"
   ]
  },
  {
   "cell_type": "code",
   "execution_count": 5,
   "metadata": {},
   "outputs": [],
   "source": [
    "def show_image(image):\n",
    "    plt.figure(figsize=(18,15))\n",
    "    #Before showing image, bgr color order transformed to rgb order\n",
    "    plt.imshow(cv2.cvtColor(image, cv2.COLOR_BGR2RGB))\n",
    "    plt.xticks([])\n",
    "    plt.yticks([])\n",
    "    plt.show()"
   ]
  },
  {
   "cell_type": "code",
   "execution_count": 6,
   "metadata": {},
   "outputs": [],
   "source": [
    "def detect_face(image, scaleFactor, minNeighbors, minSize):\n",
    "    image_gray=cv2.cvtColor(image, cv2.COLOR_BGR2GRAY)\n",
    "\n",
    "    faces=fd.detect(image_gray,\n",
    "                   scaleFactor=scaleFactor,\n",
    "                   minNeighbors=minNeighbors,\n",
    "                   minSize=minSize)\n",
    "\n",
    "    for x, y, w, h in faces:\n",
    "        #detected faces shown in color image\n",
    "        cv2.rectangle(image,(x,y),(x+w, y+h),(127, 255,0),3)\n",
    "\n",
    "    show_image(image)"
   ]
  },
  {
   "cell_type": "code",
   "execution_count": null,
   "metadata": {},
   "outputs": [],
   "source": [
    "for image_org in images:\n",
    "    \n",
    "    image_gray=cv2.cvtColor(image_org,cv2.COLOR_BGR2GRAY)\n",
    "    faceRect=fd.detect(image_gray,\n",
    "                       scaleFactor=1.1,\n",
    "                       minNeighbors=5,\n",
    "                       minSize=(30,30))\n",
    "    #print(\"I found {} faces\".format(len(faceRect)))\n",
    "    first_detection=False\n",
    "    for (x,y,w,h) in faceRect:\n",
    "        if first_detection==False:\n",
    "            face_counter+=1\n",
    "            cv2.rectangle(image_org,(x,y),(x+w,y+h),(127,255,0),2)\n",
    "            first_detection=True\n",
    "        else:\n",
    "            print(\"Second detection ignored in a image\")\n"
   ]
  }
 ],
 "metadata": {
  "kernelspec": {
   "display_name": "Python 3.9.7 ('base')",
   "language": "python",
   "name": "python3"
  },
  "language_info": {
   "codemirror_mode": {
    "name": "ipython",
    "version": 3
   },
   "file_extension": ".py",
   "mimetype": "text/x-python",
   "name": "python",
   "nbconvert_exporter": "python",
   "pygments_lexer": "ipython3",
   "version": "3.9.7"
  },
  "orig_nbformat": 4,
  "vscode": {
   "interpreter": {
    "hash": "d367ddca12e32af6817c96975c9ff42e1374bf51ce4d2968fffda4ca9e757b6c"
   }
  }
 },
 "nbformat": 4,
 "nbformat_minor": 2
}
